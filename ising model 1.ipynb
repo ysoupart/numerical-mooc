{
 "cells": [
  {
   "cell_type": "markdown",
   "metadata": {
    "collapsed": false
   },
   "source": [
    "THE ISING MODEL"
   ]
  },
  {
   "cell_type": "markdown",
   "metadata": {
    "collapsed": false
   },
   "source": [
    "Needed libraries :\n",
    "\n"
   ]
  },
  {
   "cell_type": "code",
   "execution_count": 38,
   "metadata": {
    "collapsed": false
   },
   "outputs": [
   ],
   "source": [
    "%matplotlib inline\n",
    "import numpy\n",
    "from matplotlib import pyplot\n",
    "import matplotlib.cm as cm\n",
    "from matplotlib import animation\n",
    "from IPython.display import HTML"
   ]
  },
  {
   "cell_type": "markdown",
   "metadata": {
    "collapsed": false
   },
   "source": [
    "A) Challenge : checking that the metropolis algorithm gives the correct ratio of \"ups\" and \"downs\" for different lattice configurations."
   ]
  },
  {
   "cell_type": "code",
   "execution_count": 39,
   "metadata": {
    "collapsed": false
   },
   "outputs": [
   ],
   "source": [
    "def initial_state(nx,ny):\n",
    "    # Uniform random spins between 0 and 1\n",
    "    r = numpy.random.randint(0,2,(nx,ny))\n",
    "    # Where r=0, we assign a negative spin\n",
    "    r[r==0] =-1\n",
    "\n",
    "    return r"
   ]
  },
  {
   "cell_type": "code",
   "execution_count": 40,
   "metadata": {
    "collapsed": false
   },
   "outputs": [
   ],
   "source": [
    "nx = 10\n",
    "ny = 10\n",
    "alpha = 0.1\n",
    "sp=initial_state(10,10)"
   ]
  },
  {
   "cell_type": "markdown",
   "metadata": {
    "collapsed": false
   },
   "source": [
    "Contribution to the energy for a given spin at location (ix,iy) for a lattice with periodic boundary conditions :"
   ]
  },
  {
   "cell_type": "code",
   "execution_count": 41,
   "metadata": {
    "collapsed": false
   },
   "outputs": [
   ],
   "source": [
    "def energy_at_site(sp,alpha,sigma,ix,iy):\n",
    "    # sp : array of spins\n",
    "    # alpha coupling constant J/kb*T\n",
    "    # sigma spin at location (ix,iy)\n",
    "\n",
    "    energy=-alpha*sigma*(sp[(ix-1)%nx,iy]+sp[(ix+1)%nx,iy]+sp[ix,(iy-1)%ny]+sp[ix,(iy+1)%ny])\n",
    "\n",
    "    return energy"
   ]
  },
  {
   "cell_type": "markdown",
   "metadata": {
    "collapsed": false
   },
   "source": [
    "Flipping a dipole at location (ix,iy) if p < exp(-dE), p random number, \n",
    "                                                       dE energy difference between flipped and unflipped dipole (Metropolis probability)"
   ]
  },
  {
   "cell_type": "code",
   "execution_count": 43,
   "metadata": {
    "collapsed": false
   },
   "outputs": [
   ],
   "source": [
    "def metropolis_at_site(sp,alpha,ix,iy):\n",
    "\n",
    "    sigma=sp[ix,iy]\n",
    "    energy_before_flip = energy_at_site(sp,alpha,sigma,ix,iy)\n",
    "    sigma = -sigma\n",
    "    energy_if_site_flipped = energy_at_site(sp,alpha,sigma,ix,iy)\n",
    "\n",
    "    if (numpy.random.random_sample()<numpy.exp(-(energy_if_site_flipped-energy_before_flip))):\n",
    "        sp[ix,iy]=-sp[ix,iy]"
   ]
  },
  {
   "cell_type": "code",
   "execution_count": 44,
   "metadata": {
    "collapsed": false
   },
   "outputs": [
    {
     "name": "stdout",
     "output_type": "stream",
     "text": [
      "1\n"
     ]
    }
   ],
   "source": [
    "NMC = 100000\n",
    "states = numpy.empty(NMC+1)\n",
    "states[0]=sp[5,5]\n",
    "\n",
    "for n in range(0,NMC):\n",
    "    metropolis_at_site(sp,alpha,5,5)\n",
    "    states[n]=sp[5,5]\n",
    "\n",
    "ups = numpy.extract(states==1, states).size\n",
    "downs = NMC - ups\n",
    "print(ups/downs)"
   ]
  },
  {
   "cell_type": "markdown",
   "metadata": {
    "collapsed": false
   },
   "source": [
    "B) Ising model : 1. Initial state : all spins pointing upwards."
   ]
  },
  {
   "cell_type": "code",
   "execution_count": 45,
   "metadata": {
    "collapsed": false
   },
   "outputs": [
   ],
   "source": [
    "nx = 100\n",
    "ny = 100\n",
    "sp = numpy.ones([nx,ny])"
   ]
  },
  {
   "cell_type": "markdown",
   "metadata": {
    "collapsed": false
   },
   "source": [
    " Creating a sequence of states : "
   ]
  },
  {
   "cell_type": "code",
   "execution_count": 46,
   "metadata": {
    "collapsed": false
   },
   "outputs": [
   ],
   "source": [
    "def ising_model_metropolis(sp, NMC, nx, ny, alpha):\n",
    "    # NMC : Number of states to create\n",
    "    \n",
    "    states = numpy.empty([NMC+1,nx,ny])\n",
    "    states[0] = sp.copy()\n",
    "    \n",
    "    for i in range(1,NMC+1):\n",
    "        for j in range(0,nx*ny):\n",
    "            ix=numpy.random.randint(0,nx)\n",
    "            iy=numpy.random.randint(0,ny)\n",
    "            metropolis_at_site(sp,alpha,ix,iy)\n",
    "        states[i]=sp.copy()\n",
    "        \n",
    "    return states\n"
   ]
  },
  {
   "cell_type": "markdown",
   "metadata": {
    "collapsed": false
   },
   "source": [
    "Generating sequences of 100 states for different values of alpha :"
   ]
  },
  {
   "cell_type": "code",
   "execution_count": 49,
   "metadata": {
    "collapsed": false
   },
   "outputs": [
   ],
   "source": [
    "NMC=100\n",
    "alpha=0.2\n",
    "states_0_2 = ising_model_metropolis(sp, NMC, nx, ny, alpha)\n"
   ]
  },
  {
   "cell_type": "markdown",
   "metadata": {
    "collapsed": false
   },
   "source": [
    "Function for the computation of the average energy for each alpha"
   ]
  },
  {
   "cell_type": "code",
   "execution_count": 106,
   "metadata": {
    "collapsed": false
   },
   "outputs": [
   ],
   "source": [
    "def average_energy(NMC,alpha,state):\n",
    "    E_tot=0\n",
    "    for i in range(NMC):\n",
    "        for j in range(nx):\n",
    "            for k in range(ny):\n",
    "                E_tot=E_tot+energy_at_site(state[i],alpha,state[i,j,k],j,k)\n",
    "    return E_tot/NMC"
   ]
  },
  {
   "cell_type": "code",
   "execution_count": 109,
   "metadata": {
    "collapsed": false
   },
   "outputs": [
   ],
   "source": [
    "def average_magnetization(NMC,alpha,state):\n",
    "    M_tot=0\n",
    "    for i in range(NMC):\n",
    "        for j in range(nx):\n",
    "            for k in range(ny):\n",
    "                M_tot=M_tot+state[i,j,k]\n",
    "    return M_tot/NMC\n",
    "                "
   ]
  },
  {
   "cell_type": "code",
   "execution_count": 110,
   "metadata": {
    "collapsed": false
   },
   "outputs": [
   ],
   "source": [
    "av_energy_0_2=average_energy(NMC,alpha,states_0_2)\n",
    "av_magn_0_2=average_magnetization(NMC,alpha,states_0_2"
   ]
  },
  {
   "cell_type": "code",
   "execution_count": 111,
   "metadata": {
    "collapsed": false
   },
   "outputs": [
   ],
   "source": [
    "NMC=100\n",
    "sp = numpy.ones([nx,ny]) # re-initialization \n",
    "alpha=0.3\n",
    "states_0_3 = ising_model_metropolis(sp, NMC, nx, ny, alpha)"
   ]
  },
  {
   "cell_type": "code",
   "execution_count": 112,
   "metadata": {
    "collapsed": false
   },
   "outputs": [
   ],
   "source": [
    "av_energy_0_3=average_energy(NMC,alpha,states_0_3)\n",
    "av_magn_0_3=average_magnetization(NMC,alpha,states_0_3)"
   ]
  },
  {
   "cell_type": "code",
   "execution_count": 113,
   "metadata": {
    "collapsed": false
   },
   "outputs": [
   ],
   "source": [
    "NMC=100\n",
    "sp = numpy.ones([nx,ny])\n",
    "alpha=0.35\n",
    "states_0_35 = ising_model_metropolis(sp, NMC, nx, ny, alpha)"
   ]
  },
  {
   "cell_type": "code",
   "execution_count": 114,
   "metadata": {
    "collapsed": false
   },
   "outputs": [
   ],
   "source": [
    "av_energy_0_35=average_energy(NMC,alpha,states_0_35)\n",
    "av_magn_0_35=average_magnetization(NMC,alpha,states_0_35)"
   ]
  },
  {
   "cell_type": "code",
   "execution_count": 115,
   "metadata": {
    "collapsed": false
   },
   "outputs": [
   ],
   "source": [
    "NMC=100\n",
    "sp = numpy.ones([nx,ny])\n",
    "alpha=0.4\n",
    "states_0_4 = ising_model_metropolis(sp, NMC, nx, ny, alpha)"
   ]
  },
  {
   "cell_type": "code",
   "execution_count": 116,
   "metadata": {
    "collapsed": false
   },
   "outputs": [
   ],
   "source": [
    "av_energy_0_4=average_energy(NMC,alpha,states_0_4)\n",
    "av_magn_0_4=average_magnetization(NMC,alpha,states_0_4)"
   ]
  },
  {
   "cell_type": "code",
   "execution_count": 117,
   "metadata": {
    "collapsed": false
   },
   "outputs": [
   ],
   "source": [
    "NMC=100\n",
    "sp = numpy.ones([nx,ny])\n",
    "alpha=0.45\n",
    "states_0_45 = ising_model_metropolis(sp, NMC, nx, ny, alpha)"
   ]
  },
  {
   "cell_type": "code",
   "execution_count": 118,
   "metadata": {
    "collapsed": false
   },
   "outputs": [
   ],
   "source": [
    "av_energy_0_45=average_energy(NMC,alpha,states_0_45)\n",
    "av_magn_0_45=average_magnetization(NMC,alpha,states_0_45)"
   ]
  },
  {
   "cell_type": "code",
   "execution_count": 119,
   "metadata": {
    "collapsed": false
   },
   "outputs": [
   ],
   "source": [
    "NMC=100\n",
    "sp = numpy.ones([nx,ny])\n",
    "alpha=0.5\n",
    "states_0_5 = ising_model_metropolis(sp, NMC, nx, ny, alpha)"
   ]
  },
  {
   "cell_type": "code",
   "execution_count": 120,
   "metadata": {
    "collapsed": false
   },
   "outputs": [
   ],
   "source": [
    "av_energy_0_5=average_energy(NMC,alpha,states_0_5)\n",
    "av_magn_0_5=average_magnetization(NMC,alpha,states_0_5)"
   ]
  },
  {
   "cell_type": "code",
   "execution_count": 121,
   "metadata": {
    "collapsed": false
   },
   "outputs": [
   ],
   "source": [
    "NMC=100\n",
    "sp = numpy.ones([nx,ny])\n",
    "alpha=0.6\n",
    "states_0_6 = ising_model_metropolis(sp, NMC, nx, ny, alpha)"
   ]
  },
  {
   "cell_type": "code",
   "execution_count": 122,
   "metadata": {
    "collapsed": false
   },
   "outputs": [
   ],
   "source": [
    "av_energy_0_6=average_energy(NMC,alpha,states_0_6)\n",
    "av_magn_0_6=average_magnetization(NMC,alpha,states_0_6)"
   ]
  },
  {
   "cell_type": "code",
   "execution_count": 123,
   "metadata": {
    "collapsed": false
   },
   "outputs": [
   ],
   "source": [
    "NMC=100\n",
    "sp = numpy.ones([nx,ny])\n",
    "alpha=0.7\n",
    "states_0_7 = ising_model_metropolis(sp, NMC, nx, ny, alpha)"
   ]
  },
  {
   "cell_type": "code",
   "execution_count": 124,
   "metadata": {
    "collapsed": false
   },
   "outputs": [
   ],
   "source": [
    "av_energy_0_7=average_energy(NMC,alpha,states_0_7)\n",
    "av_magn_0_7=average_magnetization(NMC,alpha,states_0_7)"
   ]
  },
  {
   "cell_type": "markdown",
   "metadata": {
    "collapsed": false
   },
   "source": [
    "Plotting the evolution of the total spin (magnetisation) as the sequence is generated as a function of alpha :"
   ]
  },
  {
   "cell_type": "code",
   "execution_count": 79,
   "metadata": {
    "collapsed": false
   },
   "outputs": [
    {
     "data": {
      "image/png": "[encoded data removed]"
     },
     "execution_count": 79,
     "metadata": {
     },
     "output_type": "execute_result"
    }
   ],
   "source": [
    "pyplot.figure()\n",
    "pyplot.plot(states_0_2.sum(axis=(1,2)),label=r'$\\alpha=0.2$')\n",
    "pyplot.plot(states_0_3.sum(axis=(1,2)),label=r'$\\alpha=0.3$')\n",
    "pyplot.plot(states_0_35.sum(axis=(1,2)),label=r'$\\alpha=0.35$')\n",
    "pyplot.plot(states_0_4.sum(axis=(1,2)),label=r'$\\alpha=0.4$')\n",
    "pyplot.plot(states_0_45.sum(axis=(1,2)),label=r'$\\alpha=0.45$')\n",
    "pyplot.plot(states_0_5.sum(axis=(1,2)),label=r'$\\alpha=0.5$')\n",
    "pyplot.plot(states_0_6.sum(axis=(1,2)),label=r'$\\alpha=0.6$')\n",
    "pyplot.plot(states_0_7.sum(axis=(1,2)),label=r'$\\alpha=0.7$')\n",
    "pyplot.legend()\n",
    "pyplot.tight_layout()"
   ]
  },
  {
   "cell_type": "code",
   "execution_count": 0,
   "metadata": {
    "collapsed": false
   },
   "outputs": [
   ],
   "source": [
   ]
  },
  {
   "cell_type": "code",
   "execution_count": 81,
   "metadata": {
    "collapsed": false
   },
   "outputs": [
    {
     "ename": "ValueError",
     "evalue": "'axis' entry is out of bounds",
     "output_type": "error",
     "traceback": [
      "\u001b[0;31m---------------------------------------------------------------------------\u001b[0m",
      "\u001b[0;31mValueError\u001b[0m                                Traceback (most recent call last)",
      "\u001b[0;32m<ipython-input-81-1ccc77b302dd>\u001b[0m in \u001b[0;36m<module>\u001b[0;34m()\u001b[0m\n\u001b[1;32m      1\u001b[0m \u001b[0mpyplot\u001b[0m\u001b[0;34m.\u001b[0m\u001b[0mfigure\u001b[0m\u001b[0;34m(\u001b[0m\u001b[0;34m)\u001b[0m\u001b[0;34m\u001b[0m\u001b[0m\n\u001b[0;32m----> 2\u001b[0;31m \u001b[0mpyplot\u001b[0m\u001b[0;34m.\u001b[0m\u001b[0mplot\u001b[0m\u001b[0;34m(\u001b[0m\u001b[0mav_energy_0_2\u001b[0m\u001b[0;34m.\u001b[0m\u001b[0msum\u001b[0m\u001b[0;34m(\u001b[0m\u001b[0maxis\u001b[0m\u001b[0;34m=\u001b[0m\u001b[0;34m(\u001b[0m\u001b[0;34m-\u001b[0m\u001b[0;36m1\u001b[0m\u001b[0;34m,\u001b[0m\u001b[0;36m1\u001b[0m\u001b[0;34m)\u001b[0m\u001b[0;34m)\u001b[0m\u001b[0;34m,\u001b[0m\u001b[0mlabel\u001b[0m\u001b[0;34m=\u001b[0m\u001b[0;34mr'$\\alpha=0.2$'\u001b[0m\u001b[0;34m)\u001b[0m\u001b[0;34m\u001b[0m\u001b[0m\n\u001b[0m\u001b[1;32m      3\u001b[0m \u001b[0mpyplot\u001b[0m\u001b[0;34m.\u001b[0m\u001b[0mplot\u001b[0m\u001b[0;34m(\u001b[0m\u001b[0mav_energy_0_3\u001b[0m\u001b[0;34m.\u001b[0m\u001b[0msum\u001b[0m\u001b[0;34m(\u001b[0m\u001b[0maxis\u001b[0m\u001b[0;34m=\u001b[0m\u001b[0;34m(\u001b[0m\u001b[0;34m-\u001b[0m\u001b[0;36m1\u001b[0m\u001b[0;34m,\u001b[0m\u001b[0;36m1\u001b[0m\u001b[0;34m)\u001b[0m\u001b[0;34m)\u001b[0m\u001b[0;34m,\u001b[0m\u001b[0mlabel\u001b[0m\u001b[0;34m=\u001b[0m\u001b[0;34mr'$\\alpha=0.3$'\u001b[0m\u001b[0;34m)\u001b[0m\u001b[0;34m\u001b[0m\u001b[0m\n\u001b[1;32m      4\u001b[0m \u001b[0mpyplot\u001b[0m\u001b[0;34m.\u001b[0m\u001b[0mplot\u001b[0m\u001b[0;34m(\u001b[0m\u001b[0mav_energy_0_35\u001b[0m\u001b[0;34m.\u001b[0m\u001b[0msum\u001b[0m\u001b[0;34m(\u001b[0m\u001b[0maxis\u001b[0m\u001b[0;34m=\u001b[0m\u001b[0;34m(\u001b[0m\u001b[0;34m-\u001b[0m\u001b[0;36m1\u001b[0m\u001b[0;34m,\u001b[0m\u001b[0;36m1\u001b[0m\u001b[0;34m)\u001b[0m\u001b[0;34m)\u001b[0m\u001b[0;34m,\u001b[0m\u001b[0mlabel\u001b[0m\u001b[0;34m=\u001b[0m\u001b[0;34mr'$\\alpha=0.35$'\u001b[0m\u001b[0;34m)\u001b[0m\u001b[0;34m\u001b[0m\u001b[0m\n\u001b[1;32m      5\u001b[0m \u001b[0mpyplot\u001b[0m\u001b[0;34m.\u001b[0m\u001b[0mplot\u001b[0m\u001b[0;34m(\u001b[0m\u001b[0mav_energy_0_4\u001b[0m\u001b[0;34m.\u001b[0m\u001b[0msum\u001b[0m\u001b[0;34m(\u001b[0m\u001b[0maxis\u001b[0m\u001b[0;34m=\u001b[0m\u001b[0;34m(\u001b[0m\u001b[0;34m-\u001b[0m\u001b[0;36m1\u001b[0m\u001b[0;34m,\u001b[0m\u001b[0;36m1\u001b[0m\u001b[0;34m)\u001b[0m\u001b[0;34m)\u001b[0m\u001b[0;34m,\u001b[0m\u001b[0mlabel\u001b[0m\u001b[0;34m=\u001b[0m\u001b[0;34mr'$\\alpha=0.4$'\u001b[0m\u001b[0;34m)\u001b[0m\u001b[0;34m\u001b[0m\u001b[0m\n",
      "\u001b[0;32m/projects/sage/sage/local/lib/python2.7/site-packages/numpy/core/_methods.pyc\u001b[0m in \u001b[0;36m_sum\u001b[0;34m(a, axis, dtype, out, keepdims)\u001b[0m\n\u001b[1;32m     30\u001b[0m \u001b[0;34m\u001b[0m\u001b[0m\n\u001b[1;32m     31\u001b[0m \u001b[0;32mdef\u001b[0m \u001b[0m_sum\u001b[0m\u001b[0;34m(\u001b[0m\u001b[0ma\u001b[0m\u001b[0;34m,\u001b[0m \u001b[0maxis\u001b[0m\u001b[0;34m=\u001b[0m\u001b[0mNone\u001b[0m\u001b[0;34m,\u001b[0m \u001b[0mdtype\u001b[0m\u001b[0;34m=\u001b[0m\u001b[0mNone\u001b[0m\u001b[0;34m,\u001b[0m \u001b[0mout\u001b[0m\u001b[0;34m=\u001b[0m\u001b[0mNone\u001b[0m\u001b[0;34m,\u001b[0m \u001b[0mkeepdims\u001b[0m\u001b[0;34m=\u001b[0m\u001b[0mFalse\u001b[0m\u001b[0;34m)\u001b[0m\u001b[0;34m:\u001b[0m\u001b[0;34m\u001b[0m\u001b[0m\n\u001b[0;32m---> 32\u001b[0;31m     \u001b[0;32mreturn\u001b[0m \u001b[0mumr_sum\u001b[0m\u001b[0;34m(\u001b[0m\u001b[0ma\u001b[0m\u001b[0;34m,\u001b[0m \u001b[0maxis\u001b[0m\u001b[0;34m,\u001b[0m \u001b[0mdtype\u001b[0m\u001b[0;34m,\u001b[0m \u001b[0mout\u001b[0m\u001b[0;34m,\u001b[0m \u001b[0mkeepdims\u001b[0m\u001b[0;34m)\u001b[0m\u001b[0;34m\u001b[0m\u001b[0m\n\u001b[0m\u001b[1;32m     33\u001b[0m \u001b[0;34m\u001b[0m\u001b[0m\n\u001b[1;32m     34\u001b[0m \u001b[0;32mdef\u001b[0m \u001b[0m_prod\u001b[0m\u001b[0;34m(\u001b[0m\u001b[0ma\u001b[0m\u001b[0;34m,\u001b[0m \u001b[0maxis\u001b[0m\u001b[0;34m=\u001b[0m\u001b[0mNone\u001b[0m\u001b[0;34m,\u001b[0m \u001b[0mdtype\u001b[0m\u001b[0;34m=\u001b[0m\u001b[0mNone\u001b[0m\u001b[0;34m,\u001b[0m \u001b[0mout\u001b[0m\u001b[0;34m=\u001b[0m\u001b[0mNone\u001b[0m\u001b[0;34m,\u001b[0m \u001b[0mkeepdims\u001b[0m\u001b[0;34m=\u001b[0m\u001b[0mFalse\u001b[0m\u001b[0;34m)\u001b[0m\u001b[0;34m:\u001b[0m\u001b[0;34m\u001b[0m\u001b[0m\n",
      "\u001b[0;31mValueError\u001b[0m: 'axis' entry is out of bounds"
     ]
    },
    {
     "data": {
      "text/plain": [
       "<matplotlib.figure.Figure at 0x7f39389bcb10>"
      ]
     },
     "execution_count": 81,
     "metadata": {
     },
     "output_type": "execute_result"
    }
   ],
   "source": [
   ]
  },
  {
   "cell_type": "markdown",
   "metadata": {
    "collapsed": false
   },
   "source": [
    "(2) Initial state :  all spins pointing upwards on the borders and randomly oriented in the bulk :"
   ]
  },
  {
   "cell_type": "code",
   "execution_count": 86,
   "metadata": {
    "collapsed": false
   },
   "outputs": [
   ],
   "source": [
    "nx=100\n",
    "ny=100\n",
    "sp = initial_state(nx,ny)\n",
    "sp[0,:]=sp[99,:]=sp[:,0]=sp[:,99]=1"
   ]
  },
  {
   "cell_type": "code",
   "execution_count": 101,
   "metadata": {
    "collapsed": false
   },
   "outputs": [
   ],
   "source": [
    "NMC=100\n",
    "alpha=0.2\n",
    "states_0_2_a = ising_model_metropolis(sp, NMC, nx, ny, alpha)"
   ]
  },
  {
   "cell_type": "code",
   "execution_count": 132,
   "metadata": {
    "collapsed": false
   },
   "outputs": [
   ],
   "source": [
    "av_energy_0_2_a=average_energy(NMC,alpha,states_0_2_a)\n",
    "av_magn_0_2_a=average_magnetization(NMC,alpha,states_0_2_a)"
   ]
  },
  {
   "cell_type": "code",
   "execution_count": 99,
   "metadata": {
    "collapsed": false
   },
   "outputs": [
   ],
   "source": [
    "NMC=100\n",
    "sp = initial_state(nx,ny)\n",
    "sp[0,:]=sp[99,:]=sp[:,0]=sp[:,99]=1\n",
    "alpha=0.3\n",
    "states_0_3_a = ising_model_metropolis(sp, NMC, nx, ny, alpha)"
   ]
  },
  {
   "cell_type": "code",
   "execution_count": 131,
   "metadata": {
    "collapsed": false
   },
   "outputs": [
   ],
   "source": [
    "av_energy_0_3_a=average_energy(NMC,alpha,states_0_3_a)\n",
    "av_magn_0_3_a=average_magnetization(NMC,alpha,states_0_3_a)"
   ]
  },
  {
   "cell_type": "code",
   "execution_count": 97,
   "metadata": {
    "collapsed": false
   },
   "outputs": [
   ],
   "source": [
    "NMC=100\n",
    "sp = initial_state(nx,ny)\n",
    "sp[0,:]=sp[99,:]=sp[:,0]=sp[:,99]=1\n",
    "alpha=0.35\n",
    "states_0_35_a = ising_model_metropolis(sp, NMC, nx, ny, alpha)"
   ]
  },
  {
   "cell_type": "code",
   "execution_count": 130,
   "metadata": {
    "collapsed": false
   },
   "outputs": [
   ],
   "source": [
    "av_energy_0_35_a=average_energy(NMC,alpha,states_0_35_a)\n",
    "av_magn_0_35_a=average_magnetization(NMC,alpha,states_0_35_a)"
   ]
  },
  {
   "cell_type": "code",
   "execution_count": 95,
   "metadata": {
    "collapsed": false
   },
   "outputs": [
   ],
   "source": [
    "NMC=100\n",
    "sp = initial_state(nx,ny)\n",
    "sp[0,:]=sp[99,:]=sp[:,0]=sp[:,99]=1\n",
    "alpha=0.4\n",
    "states_0_4_a = ising_model_metropolis(sp, NMC, nx, ny, alpha)"
   ]
  },
  {
   "cell_type": "code",
   "execution_count": 129,
   "metadata": {
    "collapsed": false
   },
   "outputs": [
   ],
   "source": [
    "av_energy_0_4_a=average_energy(NMC,alpha,states_0_4_a)\n",
    "av_magn_0_4_a=average_magnetization(NMC,alpha,states_0_4_a)"
   ]
  },
  {
   "cell_type": "code",
   "execution_count": 93,
   "metadata": {
    "collapsed": false
   },
   "outputs": [
   ],
   "source": [
    "NMC=100\n",
    "sp = initial_state(nx,ny)\n",
    "sp[0,:]=sp[99,:]=sp[:,0]=sp[:,99]=1\n",
    "alpha=0.5\n",
    "states_0_5_a = ising_model_metropolis(sp, NMC, nx, ny, alpha)"
   ]
  },
  {
   "cell_type": "code",
   "execution_count": 128,
   "metadata": {
    "collapsed": false
   },
   "outputs": [
   ],
   "source": [
    "av_energy_0_5_a=average_energy(NMC,alpha,states_0_5_a)\n",
    "av_magn_0_5_a=average_magnetization(NMC,alpha,states_0_5_a)"
   ]
  },
  {
   "cell_type": "code",
   "execution_count": 91,
   "metadata": {
    "collapsed": false
   },
   "outputs": [
   ],
   "source": [
    "NMC=100\n",
    "sp = initial_state(nx,ny)\n",
    "sp[0,:]=sp[99,:]=sp[:,0]=sp[:,99]=1\n",
    "alpha=0.6\n",
    "states_0_6_a = ising_model_metropolis(sp, NMC, nx, ny, alpha)"
   ]
  },
  {
   "cell_type": "code",
   "execution_count": 127,
   "metadata": {
    "collapsed": false
   },
   "outputs": [
   ],
   "source": [
    "av_energy_0_6_a=average_energy(NMC,alpha,states_0_6_a)\n",
    "av_magn_0_6_a=average_magnetization(NMC,alpha,states_0_6_a)"
   ]
  },
  {
   "cell_type": "code",
   "execution_count": 89,
   "metadata": {
    "collapsed": false
   },
   "outputs": [
   ],
   "source": [
    "NMC=100\n",
    "sp = initial_state(nx,ny)\n",
    "sp[0,:]=sp[99,:]=sp[:,0]=sp[:,99]=1\n",
    "alpha=0.7\n",
    "states_0_7_a = ising_model_metropolis(sp, NMC, nx, ny, alpha)"
   ]
  },
  {
   "cell_type": "code",
   "execution_count": 126,
   "metadata": {
    "collapsed": false
   },
   "outputs": [
   ],
   "source": [
    "av_energy_0_7_a=average_energy(NMC,alpha,states_0_7_a)\n",
    "av_magn_0_7_a=average_magnetization(NMC,alpha,states_0_7_a)"
   ]
  },
  {
   "cell_type": "markdown",
   "metadata": {
    "collapsed": false
   },
   "source": [
    "Plotting the evolution of the total spin (magnetisation) as the sequence is generated as a function of alpha :"
   ]
  },
  {
   "cell_type": "code",
   "execution_count": 133,
   "metadata": {
    "collapsed": false
   },
   "outputs": [
    {
     "data": {
      "image/png": "[encoded data removed]"
     },
     "execution_count": 133,
     "metadata": {
     },
     "output_type": "execute_result"
    }
   ],
   "source": [
    "pyplot.figure()\n",
    "pyplot.plot(states_0_2_a.sum(axis=(1,2)),label=r'$\\alpha=0.2$')\n",
    "pyplot.plot(states_0_3_a.sum(axis=(1,2)),label=r'$\\alpha=0.3$')\n",
    "pyplot.plot(states_0_35_a.sum(axis=(1,2)),label=r'$\\alpha=0.35$')\n",
    "pyplot.plot(states_0_4_a.sum(axis=(1,2)),label=r'$\\alpha=0.4$')\n",
    "pyplot.plot(states_0_5_a.sum(axis=(1,2)),label=r'$\\alpha=0.5$')\n",
    "pyplot.plot(states_0_6_a.sum(axis=(1,2)),label=r'$\\alpha=0.6$')\n",
    "pyplot.plot(states_0_7_a.sum(axis=(1,2)),label=r'$\\alpha=0.7$')\n",
    "pyplot.legend()\n",
    "pyplot.tight_layout()"
   ]
  },
  {
   "cell_type": "code",
   "execution_count": 0,
   "metadata": {
    "collapsed": false
   },
   "outputs": [
   ],
   "source": [
   ]
  }
 ],
 "metadata": {
  "kernelspec": {
   "display_name": "Python 2 (SageMath)",
   "language": "python",
   "name": "python2"
  }
 },
 "nbformat": 4,
 "nbformat_minor": 0
}
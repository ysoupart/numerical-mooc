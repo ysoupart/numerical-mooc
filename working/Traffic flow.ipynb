{
 "cells": [
  {
   "cell_type": "code",
   "execution_count": 1,
   "metadata": {
    "collapsed": false
   },
   "outputs": [],
   "source": [
    "import numpy                       \n",
    "from matplotlib import pyplot    \n",
    "%matplotlib inline\n",
    "from matplotlib import rcParams\n",
    "rcParams['font.family'] = 'serif'\n",
    "rcParams['font.size'] = 16"
   ]
  },
  {
   "cell_type": "code",
   "execution_count": 2,
   "metadata": {
    "collapsed": true
   },
   "outputs": [],
   "source": [
    "Vmax=80.0 # Vitesse maximale des voitures (km)\n",
    "Pmax= 250 # Densité maximale (Voitures/km)\n",
    "L=11.0 # Longueur du tronçon (km) - Limite pour x\n",
    "nx=51 # Nombre de points de la grille\n",
    "dx=L/(nx-1.0) # Distance entre deux points adjacents dans la grille\n",
    "dt=0.001 # Intervalle de temps (h)\n",
    "c=1.0 \n",
    "x = numpy.linspace(0,L,nx)\n",
    "nt=50"
   ]
  },
  {
   "cell_type": "code",
   "execution_count": 3,
   "metadata": {
    "collapsed": true
   },
   "outputs": [],
   "source": [
    "F = numpy.ones(nx) # Initialisation du vecteur F\n",
    "V=numpy.ones(nx) # Initialisation du vecteur V\n",
    "lbound = numpy.where(x >= 0) # Borne inférieure pour x\n",
    "ubound = numpy.where(x <= 11) # Borne supérieure pour x"
   ]
  },
  {
   "cell_type": "code",
   "execution_count": 4,
   "metadata": {
    "collapsed": true
   },
   "outputs": [],
   "source": [
    "# Conditions initiales\n",
    "P_0=numpy.ones(nx)*10\n",
    "P_0[10:20] = 50"
   ]
  },
  {
   "cell_type": "code",
   "execution_count": 5,
   "metadata": {
    "collapsed": false
   },
   "outputs": [
    {
     "name": "stdout",
     "output_type": "stream",
     "text": [
      "17.7777777778\n"
     ]
    }
   ],
   "source": [
    "# Vitesse à t=0S en m/s\n",
    "for n in range(nx):\n",
    "        V[n]=Vmax*(1-P_0[n]/Pmax)/3.6\n",
    "print(min(V))"
   ]
  },
  {
   "cell_type": "code",
   "execution_count": 6,
   "metadata": {
    "collapsed": true
   },
   "outputs": [],
   "source": [
    "F[0]=Vmax*P_0[0]*(1-P_0[0]/Pmax) \n",
    "\n",
    "for n in range(nt):\n",
    "    for i in range(1,nx): \n",
    "         F[i] = Vmax*P_0[i]*(1-P_0[i]/Pmax) \n",
    "         P_0[i]=P_0[i]-dt/dx*(F[i]-F[i-1])"
   ]
  },
  {
   "cell_type": "code",
   "execution_count": 7,
   "metadata": {
    "collapsed": false
   },
   "outputs": [
    {
     "data": {
      "image/png": "[encoded data removed]",
      "text/plain": [
       "<matplotlib.figure.Figure at 0x7f26e0fe1910>"
      ]
     },
     "metadata": {},
     "output_type": "display_data"
    }
   ],
   "source": [
    "pyplot.plot(x, P_0, color='#003366', ls='--', lw=3)\n",
    "pyplot.ylim(5,50);\n",
    "pyplot.xlabel(\"x(km)\",fontsize=14);\n",
    "pyplot.ylabel(\"P_0(./km)\",fontsize=14);"
   ]
  },
  {
   "cell_type": "code",
   "execution_count": 8,
   "metadata": {
    "collapsed": true
   },
   "outputs": [],
   "source": [
    "for i in range(nx): \n",
    "      V[i] = Vmax*P_0[i]*(1-P_0[i]/Pmax)/P_0[i]/3.6"
   ]
  },
  {
   "cell_type": "code",
   "execution_count": 9,
   "metadata": {
    "collapsed": false
   },
   "outputs": [
    {
     "name": "stdout",
     "output_type": "stream",
     "text": [
      "20.6361661961\n"
     ]
    }
   ],
   "source": [
    "# Vitesse moyenne à t=180s\n",
    "\n",
    "Vm=0\n",
    "\n",
    "for n in range(nx):  \n",
    "     Vp=V[n]\n",
    "     Vm=Vm+Vp\n",
    " \n",
    "Vm=Vm/51\n",
    "print(Vm)"
   ]
  },
  {
   "cell_type": "code",
   "execution_count": 10,
   "metadata": {
    "collapsed": true
   },
   "outputs": [],
   "source": [
    "P_0 = numpy.ones(nx)*10 \n",
    "P_0[10:20] = 50\n",
    "\n",
    "F[0]=Vmax*P_0[0]*(1-P_0[0]/Pmax) \n",
    " \n",
    "for n in range(100):\n",
    "    for i in range(1,nx): \n",
    "         F[i] = Vmax*P_0[i]*(1-P_0[i]/Pmax)\n",
    "         P_0[i]=P_0[i]-dt/dx*(F[i]-F[i-1])"
   ]
  },
  {
   "cell_type": "code",
   "execution_count": 11,
   "metadata": {
    "collapsed": false
   },
   "outputs": [
    {
     "name": "stdout",
     "output_type": "stream",
     "text": [
      "18.7847168709\n"
     ]
    }
   ],
   "source": [
    "# Vitesse minimale à t=360s en m/s\n",
    "for i in range(nx): \n",
    "     V[i] = Vmax*P_0[i]*(1-P_0[i]/Pmax)/P_0[i]/3.6\n",
    "print(min(V))"
   ]
  },
  {
   "cell_type": "code",
   "execution_count": 12,
   "metadata": {
    "collapsed": true
   },
   "outputs": [],
   "source": [
    "#PARTIE B: paramètres et conditions initiales\n",
    "Vmax = 136 # (km/h)\n",
    "x = numpy.linspace(0,L,nx)\n",
    "P_0= numpy.ones(nx)*20 \n",
    "P_0[10:20] = 50"
   ]
  },
  {
   "cell_type": "code",
   "execution_count": 13,
   "metadata": {
    "collapsed": true
   },
   "outputs": [],
   "source": [
    "for n in range(nx):\n",
    "     V[n]=Vmax*(1-P_0[n]/Pmax)/3.6"
   ]
  },
  {
   "cell_type": "code",
   "execution_count": 14,
   "metadata": {
    "collapsed": false
   },
   "outputs": [
    {
     "data": {
      "image/png": "[encoded data removed]",
      "text/plain": [
       "<matplotlib.figure.Figure at 0x7f26de3c2450>"
      ]
     },
     "metadata": {},
     "output_type": "display_data"
    }
   ],
   "source": [
    "pyplot.plot(x, V, color='#003366', ls='--', lw=3)\n",
    "pyplot.ylim(25,40);\n",
    "pyplot.xlabel(\"x(km)\",fontsize=14);\n",
    "pyplot.ylabel(\"vitesse(m/s)\",fontsize=14);"
   ]
  },
  {
   "cell_type": "code",
   "execution_count": 15,
   "metadata": {
    "collapsed": false
   },
   "outputs": [
    {
     "name": "stdout",
     "output_type": "stream",
     "text": [
      "30.2222222222\n"
     ]
    }
   ],
   "source": [
    "# Vitesse minimale à t=0 en m/s\n",
    "print(min(V))"
   ]
  },
  {
   "cell_type": "code",
   "execution_count": 16,
   "metadata": {
    "collapsed": true
   },
   "outputs": [],
   "source": [
    "F[0]=Vmax*P_0[0]*(1-P_0[0]/Pmax)\n",
    " \n",
    "for n in range(50):\n",
    "    for i in range(1,nx): \n",
    "         F[i] = Vmax*P_0[i]*(1-P_0[i]/Pmax)\n",
    "         P_0[i]=P_0[i]-dt/dx*(F[i]-F[i-1])"
   ]
  },
  {
   "cell_type": "code",
   "execution_count": 17,
   "metadata": {
    "collapsed": false
   },
   "outputs": [
    {
     "data": {
      "image/png": "[encoded data removed]",
      "text/plain": [
       "<matplotlib.figure.Figure at 0x7f26e05a0690>"
      ]
     },
     "metadata": {},
     "output_type": "display_data"
    }
   ],
   "source": [
    "pyplot.plot(x, P_0, color='#003366', ls='--', lw=3)\n",
    "pyplot.ylim(15,50);\n",
    "pyplot.xlabel(\"x(km)\",fontsize=14);\n",
    "pyplot.ylabel(\"P_0(./km)\",fontsize=14);"
   ]
  },
  {
   "cell_type": "code",
   "execution_count": 18,
   "metadata": {
    "collapsed": true
   },
   "outputs": [],
   "source": [
    "for i in range(nx): \n",
    "    V[i] = Vmax*P_0[i]*(1-P_0[i]/Pmax)/P_0[i]/(36/10)"
   ]
  },
  {
   "cell_type": "code",
   "execution_count": 19,
   "metadata": {
    "collapsed": false
   },
   "outputs": [
    {
     "data": {
      "image/png": "[encoded data removed]",
      "text/plain": [
       "<matplotlib.figure.Figure at 0x7f26dd5f9bd0>"
      ]
     },
     "metadata": {},
     "output_type": "display_data"
    }
   ],
   "source": [
    "pyplot.plot(x, V, color='#003366', ls='--', lw=3)\n",
    "pyplot.ylim(30,50);\n",
    "pyplot.xlabel(\"x(km)\",fontsize=14);\n",
    "pyplot.ylabel(\"vitesse(m/s)\",fontsize=14);"
   ]
  },
  {
   "cell_type": "code",
   "execution_count": 20,
   "metadata": {
    "collapsed": false
   },
   "outputs": [
    {
     "name": "stdout",
     "output_type": "stream",
     "text": [
      "40.6466618292\n"
     ]
    }
   ],
   "source": [
    "# Vitesse moyenne à t=180s en m/s\n",
    "Vm=0.0\n",
    " \n",
    "for n in range(nx):  \n",
    "    Vp=V[n]\n",
    "    Vm=Vm+Vp\n",
    " \n",
    "Vm=Vm/51 \n",
    "print (Vm)"
   ]
  },
  {
   "cell_type": "code",
   "execution_count": 21,
   "metadata": {
    "collapsed": false
   },
   "outputs": [
    {
     "name": "stdout",
     "output_type": "stream",
     "text": [
      "37.1836832167\n"
     ]
    }
   ],
   "source": [
    "# Vitesse minimale à t=180s en m/s\n",
    "print(min(V))"
   ]
  },
  {
   "cell_type": "code",
   "execution_count": null,
   "metadata": {
    "collapsed": true
   },
   "outputs": [],
   "source": []
  }
 ],
 "metadata": {
  "kernelspec": {
   "display_name": "Python 2 (SageMath)",
   "language": "python",
   "name": "python2"
  },
  "language_info": {
   "codemirror_mode": {
    "name": "ipython",
    "version": 2
   },
   "file_extension": ".py",
   "mimetype": "text/x-python",
   "name": "python",
   "nbconvert_exporter": "python",
   "pygments_lexer": "ipython2",
   "version": "2.7.10"
  }
 },
 "nbformat": 4,
 "nbformat_minor": 0
}
